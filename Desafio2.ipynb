{
 "cells": [
  {
   "cell_type": "code",
   "execution_count": 1,
   "id": "719d982a",
   "metadata": {},
   "outputs": [],
   "source": [
    "import pandas as pd\n",
    "import numpy as np"
   ]
  },
  {
   "cell_type": "code",
   "execution_count": 2,
   "id": "f4d79375",
   "metadata": {},
   "outputs": [],
   "source": [
    "import seaborn as sns\n",
    "import matplotlib.pyplot as plt\n",
    "%matplotlib inline"
   ]
  },
  {
   "cell_type": "code",
   "execution_count": 3,
   "id": "3b1fabd0",
   "metadata": {},
   "outputs": [],
   "source": [
    "base = pd.read_csv('C:/Users/Luanna/Desktop/Desafio/base.csv', sep=';')"
   ]
  },
  {
   "cell_type": "code",
   "execution_count": 4,
   "id": "57c8019f",
   "metadata": {},
   "outputs": [
    {
     "data": {
      "text/html": [
       "<div>\n",
       "<style scoped>\n",
       "    .dataframe tbody tr th:only-of-type {\n",
       "        vertical-align: middle;\n",
       "    }\n",
       "\n",
       "    .dataframe tbody tr th {\n",
       "        vertical-align: top;\n",
       "    }\n",
       "\n",
       "    .dataframe thead th {\n",
       "        text-align: right;\n",
       "    }\n",
       "</style>\n",
       "<table border=\"1\" class=\"dataframe\">\n",
       "  <thead>\n",
       "    <tr style=\"text-align: right;\">\n",
       "      <th></th>\n",
       "      <th>nome</th>\n",
       "      <th>genero</th>\n",
       "      <th>emprego</th>\n",
       "      <th>empresa</th>\n",
       "      <th>salario</th>\n",
       "      <th>idade</th>\n",
       "    </tr>\n",
       "  </thead>\n",
       "  <tbody>\n",
       "    <tr>\n",
       "      <th>0</th>\n",
       "      <td>Ol�via</td>\n",
       "      <td>Feminino</td>\n",
       "      <td>Analista de Dados</td>\n",
       "      <td>Google</td>\n",
       "      <td>12302</td>\n",
       "      <td>30</td>\n",
       "    </tr>\n",
       "    <tr>\n",
       "      <th>1</th>\n",
       "      <td>Mariana</td>\n",
       "      <td>Feminino</td>\n",
       "      <td>Analista de Dados</td>\n",
       "      <td>Apple</td>\n",
       "      <td>19585</td>\n",
       "      <td>33</td>\n",
       "    </tr>\n",
       "    <tr>\n",
       "      <th>2</th>\n",
       "      <td>Suellen</td>\n",
       "      <td>Feminino</td>\n",
       "      <td>Analista de Dados</td>\n",
       "      <td>Nvidia</td>\n",
       "      <td>20753</td>\n",
       "      <td>33</td>\n",
       "    </tr>\n",
       "    <tr>\n",
       "      <th>3</th>\n",
       "      <td>Cl�udia</td>\n",
       "      <td>Feminino</td>\n",
       "      <td>Analista de Dados</td>\n",
       "      <td>Cisco</td>\n",
       "      <td>20674</td>\n",
       "      <td>35</td>\n",
       "    </tr>\n",
       "    <tr>\n",
       "      <th>4</th>\n",
       "      <td>Lu�sa</td>\n",
       "      <td>Feminino</td>\n",
       "      <td>Analista de Dados</td>\n",
       "      <td>Oracle</td>\n",
       "      <td>21854</td>\n",
       "      <td>35</td>\n",
       "    </tr>\n",
       "  </tbody>\n",
       "</table>\n",
       "</div>"
      ],
      "text/plain": [
       "      nome    genero            emprego empresa  salario  idade\n",
       "0   Ol�via  Feminino  Analista de Dados  Google    12302     30\n",
       "1  Mariana  Feminino  Analista de Dados   Apple    19585     33\n",
       "2  Suellen  Feminino  Analista de Dados  Nvidia    20753     33\n",
       "3  Cl�udia  Feminino  Analista de Dados   Cisco    20674     35\n",
       "4    Lu�sa  Feminino  Analista de Dados  Oracle    21854     35"
      ]
     },
     "execution_count": 4,
     "metadata": {},
     "output_type": "execute_result"
    }
   ],
   "source": [
    "base.head()"
   ]
  },
  {
   "cell_type": "code",
   "execution_count": 5,
   "id": "6f604fe4",
   "metadata": {},
   "outputs": [
    {
     "name": "stdout",
     "output_type": "stream",
     "text": [
      "<class 'pandas.core.frame.DataFrame'>\n",
      "RangeIndex: 19 entries, 0 to 18\n",
      "Data columns (total 6 columns):\n",
      " #   Column   Non-Null Count  Dtype \n",
      "---  ------   --------------  ----- \n",
      " 0   nome     19 non-null     object\n",
      " 1   genero   19 non-null     object\n",
      " 2   emprego  19 non-null     object\n",
      " 3   empresa  19 non-null     object\n",
      " 4   salario  19 non-null     int64 \n",
      " 5   idade    19 non-null     int64 \n",
      "dtypes: int64(2), object(4)\n",
      "memory usage: 1.0+ KB\n"
     ]
    }
   ],
   "source": [
    "base.info()"
   ]
  },
  {
   "cell_type": "code",
   "execution_count": 10,
   "id": "ec985481",
   "metadata": {},
   "outputs": [],
   "source": [
    "#gráfico com a distribuição da variável gênero e responda: Há mais homens ou mais mulheres?"
   ]
  },
  {
   "cell_type": "code",
   "execution_count": 6,
   "id": "e9ef38d7",
   "metadata": {},
   "outputs": [
    {
     "data": {
      "text/plain": [
       "<AxesSubplot:xlabel='genero', ylabel='count'>"
      ]
     },
     "execution_count": 6,
     "metadata": {},
     "output_type": "execute_result"
    },
    {
     "data": {
      "image/png": "[encoded data removed]",
      "text/plain": [
       "<Figure size 432x288 with 1 Axes>"
      ]
     },
     "metadata": {
      "needs_background": "light"
     },
     "output_type": "display_data"
    }
   ],
   "source": [
    "sns.countplot(x='genero', data=base)"
   ]
  },
  {
   "cell_type": "code",
   "execution_count": 8,
   "id": "bac4f038",
   "metadata": {},
   "outputs": [],
   "source": [
    "#Produza um gráfico com a distribuição da variável emprego e responda: Há mais Cientistas de Dados ou mais Engenheiros de Dados?\n"
   ]
  },
  {
   "cell_type": "code",
   "execution_count": 7,
   "id": "755680c8",
   "metadata": {},
   "outputs": [
    {
     "data": {
      "text/plain": [
       "<AxesSubplot:xlabel='emprego', ylabel='count'>"
      ]
     },
     "execution_count": 7,
     "metadata": {},
     "output_type": "execute_result"
    },
    {
     "data": {
      "image/png": "[encoded data removed]",
      "text/plain": [
       "<Figure size 432x288 with 1 Axes>"
      ]
     },
     "metadata": {
      "needs_background": "light"
     },
     "output_type": "display_data"
    }
   ],
   "source": [
    "sns.countplot(x='emprego',data=base)"
   ]
  },
  {
   "cell_type": "code",
   "execution_count": 13,
   "id": "dd56c716",
   "metadata": {},
   "outputs": [],
   "source": [
    "#Produza um gráfico com a distribuição da variável salário e responda: \n",
    "#a maioria dos profissionais dessa base de dados recebe mais ou menos do que 60 mil reais?\n"
   ]
  },
  {
   "cell_type": "code",
   "execution_count": 14,
   "id": "f0b4e689",
   "metadata": {},
   "outputs": [
    {
     "data": {
      "text/plain": [
       "<seaborn.axisgrid.FacetGrid at 0x2942a51eac0>"
      ]
     },
     "execution_count": 14,
     "metadata": {},
     "output_type": "execute_result"
    },
    {
     "data": {
      "image/png": "[encoded data removed]",
      "text/plain": [
       "<Figure size 216x216 with 1 Axes>"
      ]
     },
     "metadata": {
      "needs_background": "light"
     },
     "output_type": "display_data"
    }
   ],
   "source": [
    "g = sns.FacetGrid(data=base )\n",
    "g.map(plt.hist, 'salario')"
   ]
  },
  {
   "cell_type": "code",
   "execution_count": 69,
   "id": "f234ce3e",
   "metadata": {},
   "outputs": [],
   "source": [
    "#Produza um gráfico com a distribuição da variável salário e responda:\n",
    "#a maioria dos profissionais dessa base de dados tem mais ou menos de 50 anos?\n"
   ]
  },
  {
   "cell_type": "code",
   "execution_count": 12,
   "id": "2ba889d4",
   "metadata": {},
   "outputs": [
    {
     "data": {
      "text/plain": [
       "<seaborn.axisgrid.FacetGrid at 0x2942a3e5730>"
      ]
     },
     "execution_count": 12,
     "metadata": {},
     "output_type": "execute_result"
    },
    {
     "data": {
      "image/png": "[encoded data removed]",
      "text/plain": [
       "<Figure size 216x216 with 1 Axes>"
      ]
     },
     "metadata": {
      "needs_background": "light"
     },
     "output_type": "display_data"
    }
   ],
   "source": [
    "g = sns.FacetGrid(data=base )\n",
    "g.map(plt.hist, 'idade')"
   ]
  },
  {
   "cell_type": "code",
   "execution_count": 15,
   "id": "f5b3e472",
   "metadata": {},
   "outputs": [],
   "source": [
    "#Produza um gráfico com a relação entre AS MÉDIAS das variáveis emprego e salário e responda:\n",
    "#qual profissional ganha mais em média?"
   ]
  },
  {
   "cell_type": "code",
   "execution_count": 10,
   "id": "f261191d",
   "metadata": {},
   "outputs": [
    {
     "data": {
      "text/plain": [
       "<AxesSubplot:xlabel='emprego', ylabel='salario'>"
      ]
     },
     "execution_count": 10,
     "metadata": {},
     "output_type": "execute_result"
    },
    {
     "data": {
      "image/png": "[encoded data removed]",
      "text/plain": [
       "<Figure size 432x288 with 1 Axes>"
      ]
     },
     "metadata": {
      "needs_background": "light"
     },
     "output_type": "display_data"
    }
   ],
   "source": [
    "sns.boxplot(x='emprego', y='salario', data=base)"
   ]
  },
  {
   "cell_type": "code",
   "execution_count": 32,
   "id": "ce88c2c7",
   "metadata": {},
   "outputs": [],
   "source": [
    "#Produza um gráfico com a relação entre AS MÉDIAS das variáveis idade e salário e responda: \n",
    "#qual profissional é mais velho em média?"
   ]
  },
  {
   "cell_type": "code",
   "execution_count": 11,
   "id": "e9d30755",
   "metadata": {},
   "outputs": [
    {
     "name": "stderr",
     "output_type": "stream",
     "text": [
      "D:\\Users\\Luanna\\anaconda3\\lib\\site-packages\\seaborn\\categorical.py:3714: UserWarning: The `factorplot` function has been renamed to `catplot`. The original name will be removed in a future release. Please update your code. Note that the default `kind` in `factorplot` (`'point'`) has changed `'strip'` in `catplot`.\n",
      "  warnings.warn(msg)\n"
     ]
    },
    {
     "data": {
      "text/plain": [
       "<seaborn.axisgrid.FacetGrid at 0x1a5a6ce7640>"
      ]
     },
     "execution_count": 11,
     "metadata": {},
     "output_type": "execute_result"
    },
    {
     "data": {
      "image/png": "[encoded data removed]",
      "text/plain": [
       "<Figure size 360x360 with 1 Axes>"
      ]
     },
     "metadata": {
      "needs_background": "light"
     },
     "output_type": "display_data"
    }
   ],
   "source": [
    "sns.factorplot(x='idade', y='emprego', data=base, kind='bar')"
   ]
  },
  {
   "cell_type": "code",
   "execution_count": 2,
   "id": "88d6e981",
   "metadata": {},
   "outputs": [],
   "source": [
    "#Produza um gráfico com a relação entre as variáveis idade e salário e responda: há relação entre essas variáveis? \n",
    "#Se sim, é uma relação direta ou inversa? Em outras palavras, é possível afirmar que profissionais mais jovens ganham mais, \n",
    "#ou são os profissionais mais velhos que ganham mais?"
   ]
  },
  {
   "cell_type": "code",
   "execution_count": 12,
   "id": "0240bcbc",
   "metadata": {},
   "outputs": [
    {
     "data": {
      "text/plain": [
       "<seaborn.axisgrid.FacetGrid at 0x1a5abdb3f40>"
      ]
     },
     "execution_count": 12,
     "metadata": {},
     "output_type": "execute_result"
    },
    {
     "data": {
      "image/png": "[encoded data removed]",
      "text/plain": [
       "<Figure size 360x360 with 1 Axes>"
      ]
     },
     "metadata": {
      "needs_background": "light"
     },
     "output_type": "display_data"
    }
   ],
   "source": [
    "sns.lmplot(x ='salario', y ='idade', data = base)"
   ]
  },
  {
   "cell_type": "code",
   "execution_count": 67,
   "id": "c27d8cb2",
   "metadata": {},
   "outputs": [],
   "source": [
    "#Produza um gráfico com a relação entre AS MÉDIAS das variáveis empresa e salário e responda:\n",
    "#qual empresa remunera melhor seus profissionais em média?\n"
   ]
  },
  {
   "cell_type": "code",
   "execution_count": 13,
   "id": "4fa0099f",
   "metadata": {},
   "outputs": [
    {
     "name": "stderr",
     "output_type": "stream",
     "text": [
      "D:\\Users\\Luanna\\anaconda3\\lib\\site-packages\\seaborn\\categorical.py:3714: UserWarning: The `factorplot` function has been renamed to `catplot`. The original name will be removed in a future release. Please update your code. Note that the default `kind` in `factorplot` (`'point'`) has changed `'strip'` in `catplot`.\n",
      "  warnings.warn(msg)\n"
     ]
    },
    {
     "data": {
      "text/plain": [
       "<seaborn.axisgrid.FacetGrid at 0x1a5abc9bc10>"
      ]
     },
     "execution_count": 13,
     "metadata": {},
     "output_type": "execute_result"
    },
    {
     "data": {
      "image/png": "[encoded data removed]",
      "text/plain": [
       "<Figure size 360x360 with 1 Axes>"
      ]
     },
     "metadata": {
      "needs_background": "light"
     },
     "output_type": "display_data"
    }
   ],
   "source": [
    "sns.factorplot(x='empresa', y='salario', data=base, kind='bar')"
   ]
  },
  {
   "cell_type": "code",
   "execution_count": null,
   "id": "88114b49",
   "metadata": {},
   "outputs": [],
   "source": []
  }
 ],
 "metadata": {
  "kernelspec": {
   "display_name": "Python 3",
   "language": "python",
   "name": "python3"
  },
  "language_info": {
   "codemirror_mode": {
    "name": "ipython",
    "version": 3
   },
   "file_extension": ".py",
   "mimetype": "text/x-python",
   "name": "python",
   "nbconvert_exporter": "python",
   "pygments_lexer": "ipython3",
   "version": "3.8.8"
  }
 },
 "nbformat": 4,
 "nbformat_minor": 5
}
